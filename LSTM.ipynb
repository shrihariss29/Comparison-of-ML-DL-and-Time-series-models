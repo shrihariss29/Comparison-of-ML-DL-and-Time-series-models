{
  "cells": [
    {
      "cell_type": "code",
      "execution_count": null,
      "metadata": {
        "id": "pdT-EdQN80Zj"
      },
      "outputs": [],
      "source": [
        "import numpy as np\n",
        "import pandas as pd\n",
        "from sklearn.preprocessing import MinMaxScaler\n",
        "from sklearn.model_selection import train_test_split\n",
        "from tensorflow.keras.models import Sequential\n",
        "from tensorflow.keras.layers import LSTM, Dense\n",
        "from sklearn.metrics import mean_squared_error,r2_score\n",
        "import matplotlib.pyplot as plt\n",
        "from sklearn.metrics import mean_absolute_error"
      ]
    },
    {
      "cell_type": "code",
      "execution_count": null,
      "metadata": {
        "id": "mGcyBMTCAZ8i"
      },
      "outputs": [],
      "source": [
        "df = pd.read_csv('Chemical_Dataf.csv')"
      ]
    },
    {
      "cell_type": "code",
      "execution_count": null,
      "metadata": {
        "id": "tZl2KxuAAgjx"
      },
      "outputs": [],
      "source": [
        "features = ['Rate/kg', 'Rarity', 'Date Purchased','Amount Purchased']\n",
        "target = 'Amount Purchased'"
      ]
    },
    {
      "cell_type": "code",
      "source": [
        "df['Date Purchased'] = pd.to_datetime(df['Date Purchased'], format='%d-%m-%Y')"
      ],
      "metadata": {
        "id": "im6nEtwYWImO"
      },
      "execution_count": null,
      "outputs": []
    },
    {
      "cell_type": "code",
      "execution_count": null,
      "metadata": {
        "id": "Twuiqn3SAjCp"
      },
      "outputs": [],
      "source": [
        "df['Days Since Purchase'] = (df['Date Purchased'] - df['Date Purchased'].min()).dt.days"
      ]
    },
    {
      "cell_type": "code",
      "execution_count": null,
      "metadata": {
        "id": "E8JpxogqAkvE"
      },
      "outputs": [],
      "source": [
        "X = df[features].values\n",
        "y = df[target].values.reshape(-1, 1)"
      ]
    },
    {
      "cell_type": "code",
      "execution_count": null,
      "metadata": {
        "id": "FXIMgbkjAmbk"
      },
      "outputs": [],
      "source": [
        "X[:, 2] = df['Days Since Purchase'].astype(float)"
      ]
    },
    {
      "cell_type": "code",
      "execution_count": null,
      "metadata": {
        "id": "jKk0W2F_A5vC"
      },
      "outputs": [],
      "source": [
        "scaler_X = MinMaxScaler()\n",
        "scaler_y = MinMaxScaler()"
      ]
    },
    {
      "cell_type": "code",
      "execution_count": null,
      "metadata": {
        "id": "uJsuZl5NBP3I"
      },
      "outputs": [],
      "source": [
        "X_scaled = scaler_X.fit_transform(X)\n",
        "y_scaled = scaler_y.fit_transform(y)"
      ]
    },
    {
      "cell_type": "code",
      "execution_count": null,
      "metadata": {
        "id": "nsoP3S5zBURA"
      },
      "outputs": [],
      "source": [
        "def create_sequences(data, sequence_length):\n",
        "    sequences = []\n",
        "    for i in range(len(data) - sequence_length):\n",
        "        seq = data[i:i+sequence_length]\n",
        "        sequences.append(seq)\n",
        "    return np.array(sequences)"
      ]
    },
    {
      "cell_type": "code",
      "execution_count": null,
      "metadata": {
        "id": "_sQxkfEABW_3"
      },
      "outputs": [],
      "source": [
        "sequence_length = 10\n",
        "X_seq = create_sequences(X_scaled, sequence_length)\n",
        "y_seq = create_sequences(y_scaled, sequence_length)[:, -1]"
      ]
    },
    {
      "cell_type": "code",
      "execution_count": null,
      "metadata": {
        "id": "ssUlqlRtBab0"
      },
      "outputs": [],
      "source": [
        "X_train, X_test, y_train, y_test = train_test_split(X_seq, y_seq, test_size=0.2, random_state=42)"
      ]
    },
    {
      "cell_type": "code",
      "execution_count": null,
      "metadata": {
        "id": "cdTgfrucBcgF"
      },
      "outputs": [],
      "source": [
        "model = Sequential()\n",
        "model.add(LSTM(units=50, activation='relu', input_shape=(X_train.shape[1], X_train.shape[2])))\n",
        "model.add(Dense(units=1, activation='linear'))\n",
        "model.compile(optimizer='adam', loss='mean_squared_error')"
      ]
    },
    {
      "cell_type": "code",
      "execution_count": null,
      "metadata": {
        "colab": {
          "base_uri": "https://localhost:8080/"
        },
        "id": "b73uQ4goBgj7",
        "outputId": "a0dd9d53-0a77-4d3d-8be0-e021549d584d"
      },
      "outputs": [
        {
          "output_type": "stream",
          "name": "stdout",
          "text": [
            "Epoch 1/20\n",
            "25/25 [==============================] - 0s 8ms/step - loss: 4.8620e-04\n",
            "Epoch 2/20\n",
            "25/25 [==============================] - 0s 8ms/step - loss: 2.4862e-04\n",
            "Epoch 3/20\n",
            "25/25 [==============================] - 0s 8ms/step - loss: 2.6440e-04\n",
            "Epoch 4/20\n",
            "25/25 [==============================] - 0s 8ms/step - loss: 2.2601e-04\n",
            "Epoch 5/20\n",
            "25/25 [==============================] - 0s 7ms/step - loss: 2.8890e-04\n",
            "Epoch 6/20\n",
            "25/25 [==============================] - 0s 7ms/step - loss: 2.8434e-04\n",
            "Epoch 7/20\n",
            "25/25 [==============================] - 0s 7ms/step - loss: 3.6499e-04\n",
            "Epoch 8/20\n",
            "25/25 [==============================] - 0s 7ms/step - loss: 2.6991e-04\n",
            "Epoch 9/20\n",
            "25/25 [==============================] - 0s 6ms/step - loss: 2.4540e-04\n",
            "Epoch 10/20\n",
            "25/25 [==============================] - 0s 8ms/step - loss: 1.6626e-04\n",
            "Epoch 11/20\n",
            "25/25 [==============================] - 0s 9ms/step - loss: 2.1616e-04\n",
            "Epoch 12/20\n",
            "25/25 [==============================] - 0s 10ms/step - loss: 3.0049e-04\n",
            "Epoch 13/20\n",
            "25/25 [==============================] - 0s 10ms/step - loss: 2.0521e-04\n",
            "Epoch 14/20\n",
            "25/25 [==============================] - 0s 10ms/step - loss: 1.9347e-04\n",
            "Epoch 15/20\n",
            "25/25 [==============================] - 0s 10ms/step - loss: 1.5387e-04\n",
            "Epoch 16/20\n",
            "25/25 [==============================] - 0s 9ms/step - loss: 2.8621e-04\n",
            "Epoch 17/20\n",
            "25/25 [==============================] - 0s 9ms/step - loss: 2.8900e-04\n",
            "Epoch 18/20\n",
            "25/25 [==============================] - 0s 10ms/step - loss: 1.3873e-04\n",
            "Epoch 19/20\n",
            "25/25 [==============================] - 0s 10ms/step - loss: 1.7601e-04\n",
            "Epoch 20/20\n",
            "25/25 [==============================] - 0s 10ms/step - loss: 1.3273e-04\n"
          ]
        },
        {
          "output_type": "execute_result",
          "data": {
            "text/plain": [
              "<keras.src.callbacks.History at 0x7a8c23dc5e40>"
            ]
          },
          "metadata": {},
          "execution_count": 137
        }
      ],
      "source": [
        "model.fit(X_train, y_train, epochs=20, batch_size=32, verbose=1)"
      ]
    },
    {
      "cell_type": "code",
      "execution_count": null,
      "metadata": {
        "colab": {
          "base_uri": "https://localhost:8080/"
        },
        "id": "2p2KoSBbBi4G",
        "outputId": "b5459a5f-3857-4864-935f-656bc209b5ac"
      },
      "outputs": [
        {
          "output_type": "stream",
          "name": "stdout",
          "text": [
            "7/7 [==============================] - 0s 3ms/step\n"
          ]
        }
      ],
      "source": [
        "y_pred_scaled = model.predict(X_test)"
      ]
    },
    {
      "cell_type": "code",
      "execution_count": null,
      "metadata": {
        "id": "q1_Srua4BnoW"
      },
      "outputs": [],
      "source": [
        "y_pred = scaler_y.inverse_transform(y_pred_scaled)\n",
        "y_actual = scaler_y.inverse_transform(y_test.reshape(-1, 1))"
      ]
    },
    {
      "cell_type": "code",
      "source": [
        "mae = mean_absolute_error(y_actual, y_pred)\n",
        "print(\"Mean Absolute Error (MAE):\", mae)"
      ],
      "metadata": {
        "colab": {
          "base_uri": "https://localhost:8080/"
        },
        "id": "n9ssBzaD-OTA",
        "outputId": "829854b3-5858-4601-bd02-87c6bf1c7829"
      },
      "execution_count": null,
      "outputs": [
        {
          "output_type": "stream",
          "name": "stdout",
          "text": [
            "Mean Absolute Error (MAE): 13.365937396733448\n"
          ]
        }
      ]
    },
    {
      "cell_type": "code",
      "execution_count": null,
      "metadata": {
        "colab": {
          "base_uri": "https://localhost:8080/"
        },
        "id": "m63Dx1CnBrcB",
        "outputId": "f84ff996-5330-4ab0-d38a-c606f5cb12f0"
      },
      "outputs": [
        {
          "output_type": "stream",
          "name": "stdout",
          "text": [
            "Mean Squared Error: 296.50087773930983\n"
          ]
        }
      ],
      "source": [
        "mse = mean_squared_error(y_actual, y_pred)\n",
        "print(f'Mean Squared Error: {mse}')"
      ]
    }
  ],
  "metadata": {
    "colab": {
      "provenance": []
    },
    "kernelspec": {
      "display_name": "Python 3",
      "name": "python3"
    },
    "language_info": {
      "name": "python"
    }
  },
  "nbformat": 4,
  "nbformat_minor": 0
}